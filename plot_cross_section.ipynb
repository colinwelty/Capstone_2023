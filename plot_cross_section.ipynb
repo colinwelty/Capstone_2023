{
 "cells": [
  {
   "cell_type": "markdown",
   "metadata": {},
   "source": [
    "# plot_cross_sections.ipynb\n",
    "\n",
    "Author: Robert M. Frost\n",
    "\n",
    "University of Oklahoma\n",
    "\n",
    "Created 02 November 2023\n",
    "\n",
    "Purpose: Plot vertical cross sections of reflectivity through supercell updrafts"
   ]
  },
  {
   "cell_type": "code",
   "execution_count": null,
   "metadata": {},
   "outputs": [],
   "source": [
    "import numpy as np\n",
    "import xarray as xr\n",
    "import pyart\n",
    "from getradarscans import getradarscans\n",
    "import matplotlib.pyplot as plt\n",
    "import datetime"
   ]
  },
  {
   "cell_type": "code",
   "execution_count": null,
   "metadata": {},
   "outputs": [],
   "source": []
  }
 ],
 "metadata": {
  "language_info": {
   "name": "python"
  }
 },
 "nbformat": 4,
 "nbformat_minor": 2
}
